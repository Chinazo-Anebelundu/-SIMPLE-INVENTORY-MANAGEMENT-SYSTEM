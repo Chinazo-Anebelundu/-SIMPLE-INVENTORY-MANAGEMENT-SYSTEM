{
 "cells": [
  {
   "cell_type": "code",
   "execution_count": 1,
   "metadata": {},
   "outputs": [],
   "source": [
    "import pandas as pd\n",
    "import shelve as sh"
   ]
  },
  {
   "cell_type": "code",
   "execution_count": 10,
   "metadata": {},
   "outputs": [
    {
     "name": "stdout",
     "output_type": "stream",
     "text": [
      "How many items do you want to store? 2\n",
      "Details for product  1\n",
      "Please specify the product unique id 1\n",
      "Please specify the product name milk\n",
      "Please specify the product quantity 5\n",
      "Please specify the product price 4000\n",
      "Details for product  2\n",
      "Please specify the product unique id 2\n",
      "Please specify the product name milo\n",
      "Please specify the product quantity 5\n",
      "Please specify the product price 5000\n"
     ]
    },
    {
     "data": {
      "text/html": [
       "<div>\n",
       "<style scoped>\n",
       "    .dataframe tbody tr th:only-of-type {\n",
       "        vertical-align: middle;\n",
       "    }\n",
       "\n",
       "    .dataframe tbody tr th {\n",
       "        vertical-align: top;\n",
       "    }\n",
       "\n",
       "    .dataframe thead th {\n",
       "        text-align: right;\n",
       "    }\n",
       "</style>\n",
       "<table border=\"1\" class=\"dataframe\">\n",
       "  <thead>\n",
       "    <tr style=\"text-align: right;\">\n",
       "      <th></th>\n",
       "      <th>Name</th>\n",
       "      <th>Price</th>\n",
       "      <th>ProdId</th>\n",
       "      <th>Quantity</th>\n",
       "      <th>Stock Price</th>\n",
       "    </tr>\n",
       "  </thead>\n",
       "  <tbody>\n",
       "    <tr>\n",
       "      <th>0</th>\n",
       "      <td>milk</td>\n",
       "      <td>4000.0</td>\n",
       "      <td>1</td>\n",
       "      <td>5</td>\n",
       "      <td>20000.0</td>\n",
       "    </tr>\n",
       "    <tr>\n",
       "      <th>1</th>\n",
       "      <td>milo</td>\n",
       "      <td>5000.0</td>\n",
       "      <td>2</td>\n",
       "      <td>5</td>\n",
       "      <td>25000.0</td>\n",
       "    </tr>\n",
       "  </tbody>\n",
       "</table>\n",
       "</div>"
      ],
      "text/plain": [
       "   Name   Price ProdId Quantity  Stock Price\n",
       "0  milk  4000.0      1        5      20000.0\n",
       "1  milo  5000.0      2        5      25000.0"
      ]
     },
     "execution_count": 10,
     "metadata": {},
     "output_type": "execute_result"
    }
   ],
   "source": [
    "# Amount of times to run the program\n",
    "size = int(input(\"How many items do you want to store? \"))\n",
    "\n",
    "# Program iteration\n",
    "for i in range(size):\n",
    "    \n",
    "    # Operation label\n",
    "    print(\"Details for product \", i + 1)\n",
    "    \n",
    "    # Product id input. Try-except helps control error so the program\n",
    "    #won't crash when the wrong input is made.\n",
    "    try:\n",
    "        # Try get the value\n",
    "        prodId = input(\"Please specify the product unique id \")\n",
    "    except ValueError:\n",
    "        # Catch error, if any...\n",
    "        print(input(\"Oops! You didn't put a number! Try again \"))    \n",
    "    \n",
    "    # Product name input\n",
    "    name = input(\"Please specify the product name \")\n",
    "    \n",
    "    # Product quantity\n",
    "    qty = input(\"Please specify the product quantity \")\n",
    "    \n",
    "    # Product price input\n",
    "    try:\n",
    "        price = float(input(\"Please specify the product price \"))\n",
    "    except ValueError:\n",
    "        print(input(\"Oops! You didn't put a number! Try again \"))\n",
    "        \n",
    "    # Stock price\n",
    "    stockPrice = int(price) * int(qty)\n",
    "    \n",
    "    # Open Shelve\n",
    "    s = sh.open(\"minimart\", writeback=True)\n",
    "    try:\n",
    "        s[prodId] = {\"ProdId\": prodId, \"Name\": name, \"Price\": price, \"Quantity\": qty, \"Stock Price\": float(stockPrice)}\n",
    "    finally:\n",
    "        items = list(s.values())\n",
    "        s.close()\n",
    "        \n",
    "#convert to pandas dataframe in order to view it as a table\n",
    "df = pd.DataFrame(items)\n",
    "#print(items)\n",
    "df\n",
    "    "
   ]
  },
  {
   "cell_type": "code",
   "execution_count": 19,
   "metadata": {},
   "outputs": [
    {
     "data": {
      "text/plain": [
       "ItemsView(<shelve.DbfilenameShelf object at 0x06956D90>)"
      ]
     },
     "execution_count": 19,
     "metadata": {},
     "output_type": "execute_result"
    }
   ],
   "source": [
    "s.items()"
   ]
  },
  {
   "cell_type": "code",
   "execution_count": null,
   "metadata": {},
   "outputs": [],
   "source": []
  }
 ],
 "metadata": {
  "kernelspec": {
   "display_name": "Python 3",
   "language": "python",
   "name": "python3"
  },
  "language_info": {
   "codemirror_mode": {
    "name": "ipython",
    "version": 3
   },
   "file_extension": ".py",
   "mimetype": "text/x-python",
   "name": "python",
   "nbconvert_exporter": "python",
   "pygments_lexer": "ipython3",
   "version": "3.6.8"
  }
 },
 "nbformat": 4,
 "nbformat_minor": 2
}
